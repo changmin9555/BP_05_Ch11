{
  "nbformat": 4,
  "nbformat_minor": 0,
  "metadata": {
    "colab": {
      "provenance": []
    },
    "kernelspec": {
      "name": "python3",
      "display_name": "Python 3"
    },
    "language_info": {
      "name": "python"
    }
  },
  "cells": [
    {
      "cell_type": "code",
      "execution_count": null,
      "metadata": {
        "id": "Wzzl5oKvKd-I"
      },
      "outputs": [],
      "source": [
        "#연습문제 1\n",
        "\n",
        "filename = input(\"파일 이름을 입력하세오: \") #파일 경로 입력\n",
        "infile = open(filename,\"r\")\n",
        "ans = 0\n",
        "for line in infile:#여러 줄이 있을 경우 각 줄을 line이라는 변수에 저장함\n",
        "    words = line.split()\n",
        "    for word in words:\n",
        "        ans += len(word) #글자 수를 더함\n",
        "print(\"파일 안에는 총\",ans,\"개의 글자가 있습니다.\")"
      ]
    },
    {
      "cell_type": "code",
      "source": [
        "#연습문제 2\n",
        "\n",
        "filename = input(\"파일 이름을 입력하세오: \") #파일 경로 입력\n",
        "infile = open(filename,\"r\")\n",
        "read_file = infile.readlines()\n",
        "\n",
        "outfile = open(filename, \"w\")\n",
        "del_word = input(\"삭제할 문자열을 입력하시오: \")#삭제할 문자열 입력\n",
        "\n",
        "for line in read_file: #여러 줄이 있으면 한 줄씩 처리함\n",
        "    l, r = 0, len(del_word)\n",
        "    new_line = \"\" #삭제하지 않아도 되는 문자열을 저장함\n",
        "    while l < len(line): #while문으로 삭제할 단어를 찾아냄\n",
        "        if line[l:r] == del_word: #만약 삭제할 단어가 있을 경우\n",
        "            l += len(del_word)\n",
        "            r += len(del_word)\n",
        "        else: #삭제할 단어가 아닌 경우\n",
        "            new_line += line[l]\n",
        "            l+=1\n",
        "            r+=1\n",
        "    print(new_line, file = outfile, end=\"\") #new_line에 저장한 문자열을 outfile에 작성해줌\n",
        "\n",
        "infile.close()\n",
        "outfile.close()\n",
        "print(\"변경된 파일이 저장되었습니다.\")"
      ],
      "metadata": {
        "id": "viyRFaqzKpbw"
      },
      "execution_count": null,
      "outputs": []
    },
    {
      "cell_type": "code",
      "source": [
        "#연습문제 3\n",
        "\n",
        "infile = open(filename, \"r\")\n",
        "for line in infile:\n",
        "...\n",
        "def countLine(line, counter):\n",
        " for ch in line:\n",
        " if ch.isalpha():\n",
        " if ch in counter:\n",
        " counter[ch] = counter[ch] + 1\n",
        " else:\n",
        " counter[ch] = 1\n",
        "fname = input(\"입력 파일 이름: \").strip()\n",
        "infile = open(fname, \"r\")\n",
        "my_dict = { }\n",
        "for line in infile:\n",
        " countLine(line, my_dict)\n",
        "print(my_dict)\n",
        "infile.close()"
      ],
      "metadata": {
        "id": "kkt_Q7o_KpTh"
      },
      "execution_count": null,
      "outputs": []
    },
    {
      "cell_type": "code",
      "source": [
        "#연습문제 4\n",
        "\n",
        "import pickle\n",
        "outfile = open(\"test.dat\", \"wb\")\n",
        "pickle.dump(12, outfile)\n",
        "pickle.dump(3.14, outfile)\n",
        "pickle.dump([1, 2, 3, 4, 5], outfile)\n",
        "outfile.close()\n",
        "infile = open(\"test.dat\", \"rb\")\n",
        "print(pickle.load(infile))\n",
        "print(pickle.load(infile))\n",
        "print(pickle.load(infile))\n",
        "infile.close() "
      ],
      "metadata": {
        "id": "vWspSoR5Kjwz"
      },
      "execution_count": null,
      "outputs": []
    },
    {
      "cell_type": "code",
      "source": [
        "#연습문제 5\n",
        "\n",
        "\n",
        "infilename = input(\"입력 파일 이름: \") #입력 파일 경로 입력\n",
        "outfilename = input(\"출력 파일 이름: \") #작성할 파일 경로 입력\n",
        "\n",
        "infile = open(infilename,\"r\")\n",
        "outfile = open(outfilename,\"w\")\n",
        "ans = 0 # 숫자를 더해줄 변수를 만들었음\n",
        "k = 0 # infile에 있는 숫자가 몇 개나 있는지 확인하는 변수를 만들었음\n",
        "\n",
        "for line in infile:\n",
        "    ans += float(line) #메모장에 적힌 숫자를 더해줌\n",
        "    k += 1 #k에 1을 더해줘서 나중에 평균을 구할 때 사용함\n",
        "\n",
        "#output 메모장에 합계와 평균을 적어줌\n",
        "print(\"합계=\"+str(ans), file = outfile)\n",
        "print(\"평균=\"+str(ans/k), file = outfile)\n",
        "\n",
        "infile.close()\n",
        "outfile.close()"
      ],
      "metadata": {
        "id": "JUpX6sOKKkQa"
      },
      "execution_count": null,
      "outputs": []
    },
    {
      "cell_type": "code",
      "source": [
        "#연습문제 6\n",
        "\n",
        "import pickle\n",
        "from tkinter import *\n",
        "phone_book = { }\n",
        "current = 0\n",
        "name = \"\"\n",
        "phone = \"\"\n",
        "window = Tk()\n",
        "frame1 = Frame(window)\n",
        "frame1.pack()\n",
        "Label(frame1, text = \"이름 \").grid(row = 1, column = 1, sticky = W)\n",
        "nameEntry = Entry(frame1, textvariable = name, width = 30)\n",
        "nameEntry.grid(row = 1, column = 2)\n",
        "frame2 = Frame(window)\n",
        "frame2.pack()\n",
        "Label(frame2, text = \"전화번호\").grid(row = 1, column = 1, sticky = W)\n",
        "phoneEntry = Entry(frame2, textvariable = phone, width = 30)\n",
        "phoneEntry.grid(row = 1, column = 2)\n",
        "frame3 = Frame(window)\n",
        "frame3.pack()\n",
        "def save():\n",
        " outfile = open(\"phonebook.dat\", \"wb\")\n",
        " pickle.dump(phone_book, outfile)\n",
        " print(\"주소들이 파일에 저장되었습니다\")\n",
        " outfile.close()\n",
        "def load():"
      ],
      "metadata": {
        "id": "qtpGYrnhLA6j"
      },
      "execution_count": null,
      "outputs": []
    }
  ]
}